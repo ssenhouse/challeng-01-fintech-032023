{
 "cells": [
  {
   "cell_type": "code",
   "execution_count": 1,
   "id": "add1012f-e5b8-4b49-807a-595b11db4f51",
   "metadata": {},
   "outputs": [],
   "source": [
    "def main():\n",
    "    print('Hello my name is Sean')\n",
    "    main()"
   ]
  }
 ],
 "metadata": {
  "kernelspec": {
   "display_name": "Python 3 (ipykernel)",
   "language": "python",
   "name": "python3"
  },
  "language_info": {
   "codemirror_mode": {
    "name": "ipython",
    "version": 3
   },
   "file_extension": ".py",
   "mimetype": "text/x-python",
   "name": "python",
   "nbconvert_exporter": "python",
   "pygments_lexer": "ipython3",
   "version": "3.7.13"
  }
 },
 "nbformat": 4,
 "nbformat_minor": 5
}
