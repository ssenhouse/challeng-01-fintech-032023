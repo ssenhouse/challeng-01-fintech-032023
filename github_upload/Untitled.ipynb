{
 "cells": [
  {
   "cell_type": "code",
   "execution_count": 1,
   "id": "8998eb90-e2c1-47fe-aa80-3060a9820627",
   "metadata": {},
   "outputs": [
    {
     "name": "stdout",
     "output_type": "stream",
     "text": [
      "Writing the data to a CSV file...\n"
     ]
    }
   ],
   "source": [
    "import csv\n",
    "from pathlib import Path\n",
    "\n",
    "equity_funding = [\n",
    "    {\"Company\": \"CryptoVisors\", \"Amount\": 200000, \"Series\": \"A\"},\n",
    "    {\"Company\": \"Flutterwave\", \"Amount\": 65000000, \"Series\": \"D\"},\n",
    "    {\"Company\": \"nCino\", \"Amount\": 80000000, \"Series\": \"D\"},\n",
    "    {\"Company\": \"Privacy.com\", \"Amount\": 10000000, \"Series\": \"B\"},\n",
    "]\n",
    "\n",
    "# Create an empty list called `big_raisers`\n",
    "big_raisers = []\n",
    "\n",
    "# Iterate (loop) through each dictionary in the list of dictionaries.\n",
    "for equity in equity_funding:\n",
    "    # Inside of the `for` loop, write an `if` statement that\n",
    "    # appends the dictionary to the `big_raisers` list\n",
    "    # if the funding amount is greater than $50 million (50000000).\n",
    "    if equity[\"Amount\"] >= 50000000:\n",
    "        big_raisers.append(equity)\n",
    "\n",
    "# Set the output header\n",
    "header = [\"Company\", \"Amount\", \"Series\"]\n",
    "\n",
    "# Create a Path to a new CSV file\n",
    "csvpath = Path(\"large_equity_rounds.csv\")\n",
    "\n",
    "print(\"Writing the data to a CSV file...\")\n",
    "# Open the output CSV file path using `with open`\n",
    "with open(csvpath, \"w\") as csvfile:\n",
    "    # Create a csvwriter\n",
    "    csvwriter = csv.writer(csvfile, delimiter=\",\")\n",
    "\n",
    "    # Write the header to the CSV file\n",
    "    csvwriter.writerow(header)\n",
    "\n",
    "    # Write the values of each dictionary inside of `big_raisers`\n",
    "    # as a row in the CSV file.\n",
    "    for item in big_raisers:\n",
    "        csvwriter.writerow(item.values())\n"
   ]
  },
  {
   "cell_type": "code",
   "execution_count": null,
   "id": "8985b515-15a8-4d7e-91bf-62b278d110ff",
   "metadata": {},
   "outputs": [],
   "source": []
  }
 ],
 "metadata": {
  "kernelspec": {
   "display_name": "Python 3 (ipykernel)",
   "language": "python",
   "name": "python3"
  },
  "language_info": {
   "codemirror_mode": {
    "name": "ipython",
    "version": 3
   },
   "file_extension": ".py",
   "mimetype": "text/x-python",
   "name": "python",
   "nbconvert_exporter": "python",
   "pygments_lexer": "ipython3",
   "version": "3.7.13"
  }
 },
 "nbformat": 4,
 "nbformat_minor": 5
}
